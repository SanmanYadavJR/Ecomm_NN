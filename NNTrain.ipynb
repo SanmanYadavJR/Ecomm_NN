{
 "cells": [
  {
   "cell_type": "code",
   "execution_count": 1,
   "metadata": {},
   "outputs": [],
   "source": [
    "import numpy as np"
   ]
  },
  {
   "cell_type": "code",
   "execution_count": 2,
   "metadata": {},
   "outputs": [],
   "source": [
    "import nbimporter"
   ]
  },
  {
   "cell_type": "code",
   "execution_count": 3,
   "metadata": {},
   "outputs": [],
   "source": [
    "from sklearn.utils import shuffle"
   ]
  },
  {
   "cell_type": "code",
   "execution_count": 31,
   "metadata": {},
   "outputs": [],
   "source": [
    "import matplotlib.pyplot as plt"
   ]
  },
  {
   "cell_type": "code",
   "execution_count": 4,
   "metadata": {},
   "outputs": [
    {
     "name": "stdout",
     "output_type": "stream",
     "text": [
      "Importing Jupyter notebook from Process_Ecomm.ipynb\n"
     ]
    }
   ],
   "source": [
    "from Process_Ecomm import get_data"
   ]
  },
  {
   "cell_type": "code",
   "execution_count": 5,
   "metadata": {},
   "outputs": [],
   "source": [
    "def y2indicator(y, k):\n",
    "    N = len(y)\n",
    "    ind = np.zeros((N, K))\n",
    "    for i in range(N):\n",
    "        ind[i, y[i]] = 1\n",
    "    return ind"
   ]
  },
  {
   "cell_type": "code",
   "execution_count": 6,
   "metadata": {},
   "outputs": [
    {
     "name": "stderr",
     "output_type": "stream",
     "text": [
      "Process_Ecomm.ipynb:3: FutureWarning: Method .as_matrix will be removed in a future version. Use .values instead.\n",
      "  {\n"
     ]
    }
   ],
   "source": [
    "X, Y = get_data()"
   ]
  },
  {
   "cell_type": "code",
   "execution_count": 7,
   "metadata": {},
   "outputs": [],
   "source": [
    "X, Y = shuffle(X, Y)\n",
    "Y = Y.astype(np.int32)"
   ]
  },
  {
   "cell_type": "code",
   "execution_count": 8,
   "metadata": {},
   "outputs": [],
   "source": [
    "M = 5\n",
    "D = X.shape[1]\n",
    "K = len(set(Y))"
   ]
  },
  {
   "cell_type": "code",
   "execution_count": 9,
   "metadata": {},
   "outputs": [],
   "source": [
    "Xtrain = X[:-100]\n",
    "Ytrain = Y[:-100]\n",
    "Ytrain_ind = y2indicator(Ytrain, K)"
   ]
  },
  {
   "cell_type": "code",
   "execution_count": 10,
   "metadata": {},
   "outputs": [],
   "source": [
    "Xtest = X[-100:]\n",
    "Ytest = Y[-100:]\n",
    "Ytest_ind = y2indicator(Ytest, K)"
   ]
  },
  {
   "cell_type": "code",
   "execution_count": 11,
   "metadata": {},
   "outputs": [],
   "source": [
    "W1 = np.random.randn(D, M)\n",
    "b1 = np.zeros(M)\n",
    "W2 = np.random.randn(M, K)\n",
    "b2 = np.zeros(K)"
   ]
  },
  {
   "cell_type": "code",
   "execution_count": 12,
   "metadata": {},
   "outputs": [],
   "source": [
    "def softmax(a):\n",
    "    expA = np.exp(a)\n",
    "    return expA / expA.sum(axis = 1, keepdims = True)"
   ]
  },
  {
   "cell_type": "code",
   "execution_count": 24,
   "metadata": {},
   "outputs": [],
   "source": [
    "def forward(X, W1, b1, W2, b2):\n",
    "    Z = np.tanh(X.dot(W1) + b1)\n",
    "    return softmax(Z.dot(W2) + b2), Z"
   ]
  },
  {
   "cell_type": "code",
   "execution_count": 14,
   "metadata": {},
   "outputs": [],
   "source": [
    "def predict(P_Y_given_X):\n",
    "    return np.argmax(P_Y_given_X, axis = 1)"
   ]
  },
  {
   "cell_type": "code",
   "execution_count": 15,
   "metadata": {},
   "outputs": [],
   "source": [
    "def classification_rate(Y, P):\n",
    "    return np.mean(Y == P)"
   ]
  },
  {
   "cell_type": "code",
   "execution_count": 16,
   "metadata": {},
   "outputs": [],
   "source": [
    "def cross_entropy(T, pY):\n",
    "    return -np.mean(T * np.log(pY))"
   ]
  },
  {
   "cell_type": "code",
   "execution_count": 18,
   "metadata": {},
   "outputs": [],
   "source": [
    "train_costs = []\n",
    "test_costs = []\n",
    "learning_rate = 0.001"
   ]
  },
  {
   "cell_type": "code",
   "execution_count": 28,
   "metadata": {},
   "outputs": [
    {
     "name": "stdout",
     "output_type": "stream",
     "text": [
      "Iteration =  0\n",
      "Cost Train =  0.027024059266424864\n",
      "Cost Test =  0.06925685816780958\n",
      "======================================\n",
      "Iteration =  1000\n",
      "Cost Train =  0.026686615325734856\n",
      "Cost Test =  0.07029734021857802\n",
      "======================================\n",
      "Iteration =  2000\n",
      "Cost Train =  0.02639159478415582\n",
      "Cost Test =  0.07143095735014131\n",
      "======================================\n",
      "Iteration =  3000\n",
      "Cost Train =  0.026130234771129867\n",
      "Cost Test =  0.07264264141625011\n",
      "======================================\n",
      "Iteration =  4000\n",
      "Cost Train =  0.025896187346204434\n",
      "Cost Test =  0.07391509776236856\n",
      "======================================\n",
      "Iteration =  5000\n",
      "Cost Train =  0.025684692867356383\n",
      "Cost Test =  0.07523148318688748\n",
      "======================================\n",
      "Iteration =  6000\n",
      "Cost Train =  0.025492088996543906\n",
      "Cost Test =  0.07657676082628838\n",
      "======================================\n",
      "Iteration =  7000\n",
      "Cost Train =  0.025315494304942284\n",
      "Cost Test =  0.07793822354679802\n",
      "======================================\n",
      "Iteration =  8000\n",
      "Cost Train =  0.025152592596809645\n",
      "Cost Test =  0.07930550132959886\n",
      "======================================\n",
      "Iteration =  9000\n",
      "Cost Train =  0.025001478040260983\n",
      "Cost Test =  0.08067029077490365\n",
      "======================================\n"
     ]
    }
   ],
   "source": [
    "for i in range(10000):\n",
    "    pYtrain, Ztrain = forward(Xtrain, W1, b1, W2, b2)\n",
    "    pYtest, Ztest = forward(Xtest, W1, b1, W2, b2)\n",
    "    \n",
    "    ctrain = cross_entropy(Ytrain_ind, pYtrain)\n",
    "    ctest = cross_entropy(Ytest_ind, pYtest)\n",
    "    train_costs.append(ctrain)\n",
    "    test_costs.append(ctest)\n",
    "    \n",
    "    W2 -= learning_rate * Ztrain.T.dot(pYtrain - Ytrain_ind)\n",
    "    b2 -= learning_rate * (pYtrain - Ytrain_ind).sum()\n",
    "    dZ = (pYtrain - Ytrain_ind).dot(W2.T) * (1 - Ztrain * Ztrain)\n",
    "    W1 -= learning_rate * Xtrain.T.dot(dZ)\n",
    "    b1 -= learning_rate * dZ.sum(axis = 0)\n",
    "    if i % 1000 == 0:\n",
    "        print(\"Iteration = \", i)\n",
    "        print(\"Cost Train = \", ctrain)\n",
    "        print(\"Cost Test = \", ctest)\n",
    "        print(\"======================================\")\n",
    "    "
   ]
  },
  {
   "cell_type": "code",
   "execution_count": 29,
   "metadata": {},
   "outputs": [
    {
     "name": "stdout",
     "output_type": "stream",
     "text": [
      "Final train class. rate =  0.97\n",
      "Final test class. rate =  0.93\n"
     ]
    }
   ],
   "source": [
    "print(\"Final train class. rate = \", classification_rate(Ytrain, predict(pYtrain)))\n",
    "print(\"Final test class. rate = \", classification_rate(Ytest, predict(pYtest)))"
   ]
  },
  {
   "cell_type": "code",
   "execution_count": 32,
   "metadata": {},
   "outputs": [
    {
     "data": {
      "image/png": "[encoded data removed]",
      "text/plain": [
       "<Figure size 432x288 with 1 Axes>"
      ]
     },
     "metadata": {
      "needs_background": "light"
     },
     "output_type": "display_data"
    }
   ],
   "source": [
    "legend1, = plt.plot(train_costs, label = \"Train_Costs\")\n",
    "legend2, = plt.plot(test_costs, label = \"Test_Costs\") \n",
    "plt.legend([legend1, legend2])\n",
    "plt.show()"
   ]
  },
  {
   "cell_type": "code",
   "execution_count": null,
   "metadata": {},
   "outputs": [],
   "source": []
  }
 ],
 "metadata": {
  "kernelspec": {
   "display_name": "Python 3",
   "language": "python",
   "name": "python3"
  },
  "language_info": {
   "codemirror_mode": {
    "name": "ipython",
    "version": 3
   },
   "file_extension": ".py",
   "mimetype": "text/x-python",
   "name": "python",
   "nbconvert_exporter": "python",
   "pygments_lexer": "ipython3",
   "version": "3.7.0"
  }
 },
 "nbformat": 4,
 "nbformat_minor": 2
}
