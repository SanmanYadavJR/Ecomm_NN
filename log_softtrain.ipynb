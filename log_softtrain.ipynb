{
 "cells": [
  {
   "cell_type": "code",
   "execution_count": 1,
   "metadata": {},
   "outputs": [],
   "source": [
    "import numpy as np"
   ]
  },
  {
   "cell_type": "code",
   "execution_count": 2,
   "metadata": {},
   "outputs": [],
   "source": [
    "import matplotlib.pyplot as plt"
   ]
  },
  {
   "cell_type": "code",
   "execution_count": 3,
   "metadata": {},
   "outputs": [],
   "source": [
    "from sklearn.utils import shuffle"
   ]
  },
  {
   "cell_type": "code",
   "execution_count": 4,
   "metadata": {},
   "outputs": [],
   "source": [
    "import nbimporter"
   ]
  },
  {
   "cell_type": "code",
   "execution_count": 5,
   "metadata": {},
   "outputs": [
    {
     "name": "stdout",
     "output_type": "stream",
     "text": [
      "Importing Jupyter notebook from Process_Ecomm.ipynb\n"
     ]
    }
   ],
   "source": [
    "from Process_Ecomm import get_data"
   ]
  },
  {
   "cell_type": "code",
   "execution_count": 6,
   "metadata": {},
   "outputs": [],
   "source": [
    "def y2indicator(y, k):\n",
    "    N = len(y)\n",
    "    ind = np.zeros((N, K))\n",
    "    for i in range(N):\n",
    "        ind[i, y[i]] = 1\n",
    "    return ind"
   ]
  },
  {
   "cell_type": "code",
   "execution_count": 7,
   "metadata": {},
   "outputs": [
    {
     "name": "stderr",
     "output_type": "stream",
     "text": [
      "Process_Ecomm.ipynb:3: FutureWarning: Method .as_matrix will be removed in a future version. Use .values instead.\n",
      "  {\n"
     ]
    }
   ],
   "source": [
    "X, Y = get_data()"
   ]
  },
  {
   "cell_type": "code",
   "execution_count": 8,
   "metadata": {},
   "outputs": [],
   "source": [
    "X, Y = shuffle(X, Y)\n",
    "Y = Y.astype(np.int32)\n",
    "D = X.shape[1]\n",
    "K = len(set(Y))"
   ]
  },
  {
   "cell_type": "code",
   "execution_count": 9,
   "metadata": {},
   "outputs": [],
   "source": [
    "Xtrain = X[:-100]\n",
    "Ytrain = Y[:-100]\n",
    "Ytrain_ind = y2indicator(Ytrain, K)"
   ]
  },
  {
   "cell_type": "code",
   "execution_count": 10,
   "metadata": {},
   "outputs": [],
   "source": [
    "Xtest = X[-100:]\n",
    "Ytest = Y[-100:]\n",
    "Ytest_ind = y2indicator(Ytest, K)"
   ]
  },
  {
   "cell_type": "code",
   "execution_count": 11,
   "metadata": {},
   "outputs": [],
   "source": [
    "W = np.random.randn(D, K)\n",
    "b = np.zeros(K)"
   ]
  },
  {
   "cell_type": "code",
   "execution_count": 12,
   "metadata": {},
   "outputs": [],
   "source": [
    "def softmax(a):\n",
    "    expA = np.exp(a)\n",
    "    return expA / expA.sum(axis = 1, keepdims = True)"
   ]
  },
  {
   "cell_type": "code",
   "execution_count": 13,
   "metadata": {},
   "outputs": [],
   "source": [
    "def forward(X, W, b):\n",
    "    return softmax(X.dot(W) + b)"
   ]
  },
  {
   "cell_type": "code",
   "execution_count": 14,
   "metadata": {},
   "outputs": [],
   "source": [
    "def predict(P_Y_given_X):\n",
    "    return np.argmax(P_Y_given_X, axis = 1)"
   ]
  },
  {
   "cell_type": "code",
   "execution_count": 15,
   "metadata": {},
   "outputs": [],
   "source": [
    "def classification_rate(Y, P):\n",
    "    return np.mean(Y == P)"
   ]
  },
  {
   "cell_type": "code",
   "execution_count": 16,
   "metadata": {},
   "outputs": [],
   "source": [
    "def cross_entropy(T, pY):\n",
    "    return -np.mean(T * np.log(pY))"
   ]
  },
  {
   "cell_type": "code",
   "execution_count": 17,
   "metadata": {},
   "outputs": [
    {
     "name": "stdout",
     "output_type": "stream",
     "text": [
      "Iteration =  0\n",
      "Cost Train =  0.8314621254052303\n",
      "Cost Test =  0.8543459430155482\n",
      "======================================\n",
      "Iteration =  1000\n",
      "Cost Train =  0.08822857382934948\n",
      "Cost Test =  0.09552601543526165\n",
      "======================================\n",
      "Iteration =  2000\n",
      "Cost Train =  0.08440921215939672\n",
      "Cost Test =  0.08942590260141271\n",
      "======================================\n",
      "Iteration =  3000\n",
      "Cost Train =  0.08303142932684666\n",
      "Cost Test =  0.08710800072758211\n",
      "======================================\n",
      "Iteration =  4000\n",
      "Cost Train =  0.08234867251031402\n",
      "Cost Test =  0.08595465868311435\n",
      "======================================\n",
      "Iteration =  5000\n",
      "Cost Train =  0.08195176320963103\n",
      "Cost Test =  0.08529779333075174\n",
      "======================================\n",
      "Iteration =  6000\n",
      "Cost Train =  0.08169745294563238\n",
      "Cost Test =  0.08489135352597653\n",
      "======================================\n",
      "Iteration =  7000\n",
      "Cost Train =  0.08152349696731866\n",
      "Cost Test =  0.08462543079426675\n",
      "======================================\n",
      "Iteration =  8000\n",
      "Cost Train =  0.08139880415398905\n",
      "Cost Test =  0.08444446023141569\n",
      "======================================\n",
      "Iteration =  9000\n",
      "Cost Train =  0.08130623843150218\n",
      "Cost Test =  0.08431775596045041\n",
      "======================================\n"
     ]
    }
   ],
   "source": [
    "train_cost = []\n",
    "test_cost = []\n",
    "learning_rate = 0.001\n",
    "for i in range(10000):\n",
    "    pYtrain = forward(Xtrain, W, b)\n",
    "    pYtest = forward(Xtest, W, b)\n",
    "    \n",
    "    ctrain = cross_entropy(Ytrain_ind, pYtrain)\n",
    "    ctest = cross_entropy(Ytest_ind, pYtest)\n",
    "    train_cost.append(ctrain)\n",
    "    test_cost.append(ctest)\n",
    "    \n",
    "    W -= learning_rate * Xtrain.T.dot(pYtrain - Ytrain_ind)\n",
    "    b -= learning_rate * (pYtrain - Ytrain_ind).sum(axis = 0)\n",
    "    \n",
    "    if i % 1000 == 0:\n",
    "        print(\"Iteration = \", i)\n",
    "        print(\"Cost Train = \", ctrain)\n",
    "        print(\"Cost Test = \", ctest)\n",
    "        print(\"======================================\")"
   ]
  },
  {
   "cell_type": "code",
   "execution_count": 18,
   "metadata": {},
   "outputs": [
    {
     "name": "stdout",
     "output_type": "stream",
     "text": [
      "Final train class. rate =  0.9175\n",
      "Final test class. rate =  0.88\n"
     ]
    }
   ],
   "source": [
    "print(\"Final train class. rate = \", classification_rate(Ytrain, predict(pYtrain)))\n",
    "print(\"Final test class. rate = \", classification_rate(Ytest, predict(pYtest)))"
   ]
  },
  {
   "cell_type": "code",
   "execution_count": 19,
   "metadata": {},
   "outputs": [
    {
     "data": {
      "image/png": "[encoded data removed]",
      "text/plain": [
       "<Figure size 432x288 with 1 Axes>"
      ]
     },
     "metadata": {
      "needs_background": "light"
     },
     "output_type": "display_data"
    }
   ],
   "source": [
    "legend1, = plt.plot(train_cost, label = \"Train_Costs\")\n",
    "legend2, = plt.plot(test_cost, label = \"Test_Costs\") \n",
    "plt.legend([legend1, legend2])\n",
    "plt.show()"
   ]
  },
  {
   "cell_type": "code",
   "execution_count": null,
   "metadata": {},
   "outputs": [],
   "source": []
  }
 ],
 "metadata": {
  "kernelspec": {
   "display_name": "Python 3",
   "language": "python",
   "name": "python3"
  },
  "language_info": {
   "codemirror_mode": {
    "name": "ipython",
    "version": 3
   },
   "file_extension": ".py",
   "mimetype": "text/x-python",
   "name": "python",
   "nbconvert_exporter": "python",
   "pygments_lexer": "ipython3",
   "version": "3.7.0"
  }
 },
 "nbformat": 4,
 "nbformat_minor": 2
}
